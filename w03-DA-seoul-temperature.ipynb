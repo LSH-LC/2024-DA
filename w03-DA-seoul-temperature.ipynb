{
 "cells": [
  {
   "cell_type": "markdown",
   "id": "593dde86-7fd1-42ce-8053-4a8cb33f5844",
   "metadata": {},
   "source": [
    "# 3-1"
   ]
  },
  {
   "cell_type": "code",
   "execution_count": 27,
   "id": "c9766360-26e1-4fbf-93ab-916ea2a95d82",
   "metadata": {},
   "outputs": [
    {
     "name": "stdout",
     "output_type": "stream",
     "text": [
      "<_csv.reader object at 0x000001177ED8CD60>\n"
     ]
    }
   ],
   "source": [
    "import csv\n",
    "\n",
    "f = open('w03-Seoul-temperature.csv', 'r', encoding = 'cp949')\n",
    "data = csv.reader(f)\n",
    "\n",
    "print(data)\n",
    "f.close()"
   ]
  },
  {
   "cell_type": "code",
   "execution_count": 29,
   "id": "0ac801aa-b3a7-4beb-8c9c-ea0c6c463c36",
   "metadata": {},
   "outputs": [
    {
     "name": "stdout",
     "output_type": "stream",
     "text": [
      "['날짜', '지점', '평균기온(℃)', '최저기온(℃)', '최고기온(℃)']\n",
      "['\\t2024-08-16', '108', '29.8', '26.8', '34.3']\n",
      "['\\t2024-08-17', '108', '29.8', '27.2', '34']\n",
      "['\\t2024-08-18', '108', '29.5', '27', '33.9']\n",
      "['\\t2024-08-19', '108', '29.7', '26.3', '35.3']\n",
      "['\\t2024-08-20', '108', '31.4', '27', '35.4']\n",
      "['\\t2024-08-21', '108', '28.4', '26.9', '30.8']\n",
      "['\\t2024-08-22', '108', '28.6', '27.1', '30.3']\n",
      "['\\t2024-08-23', '108', '28.4', '26.4', '31.8']\n",
      "['\\t2024-08-24', '108', '27.6', '25.1', '30.9']\n",
      "['\\t2024-08-25', '108', '28.5', '24.9', '32.7']\n",
      "['\\t2024-08-26', '108', '28.1', '25.6', '30.6']\n",
      "['\\t2024-08-27', '108', '26.5', '24.6', '30.3']\n",
      "['\\t2024-08-28', '108', '28.2', '23', '33.2']\n",
      "['\\t2024-08-29', '108', '28.4', '23.4', '33.5']\n",
      "['\\t2024-08-30', '108', '28', '23.7', '32.9']\n",
      "['\\t2024-08-31', '108', '27.6', '22.6', '33']\n",
      "['\\t2024-09-01', '108', '27.1', '24.6', '31.6']\n",
      "['\\t2024-09-02', '108', '24.5', '22.2', '26.9']\n",
      "['\\t2024-09-03', '108', '27', '23.2', '32']\n",
      "['\\t2024-09-04', '108', '27.9', '23.2', '33.3']\n",
      "['\\t2024-09-05', '108', '26.3', '25.6', '28.8']\n",
      "['\\t2024-09-06', '108', '24', '23.3', '25.7']\n",
      "['\\t2024-09-07', '108', '26.5', '22.8', '31.3']\n",
      "['\\t2024-09-08', '108', '27.2', '22.6', '32.8']\n",
      "['\\t2024-09-09', '108', '28.5', '24.1', '34.1']\n",
      "['\\t2024-09-10', '108', '29.4', '25.6', '33.9']\n",
      "['\\t2024-09-11', '108', '29', '25.4', '34.6']\n",
      "['\\t2024-09-12', '108', '25.4', '24.8', '27.1']\n",
      "['\\t2024-09-13', '108', '25.9', '24.2', '28']\n",
      "['\\t2024-09-14', '108', '28', '25.2', '32.2']\n",
      "['\\t', '', '', '', '']\n"
     ]
    }
   ],
   "source": [
    "import csv\n",
    "\n",
    "f = open('w03-Seoul-temperature.csv', 'r', encoding = 'cp949')\n",
    "data = csv.reader(f)\n",
    "\n",
    "for row in data:\n",
    "    print(row)\n",
    "\n",
    "f.close()"
   ]
  },
  {
   "cell_type": "code",
   "execution_count": 33,
   "id": "df7d7f8e-85ca-4fef-9aab-775eae87a8a3",
   "metadata": {},
   "outputs": [
    {
     "name": "stdout",
     "output_type": "stream",
     "text": [
      "['날짜', '지점', '평균기온(℃)', '최저기온(℃)', '최고기온(℃)']\n",
      "['\\t2024-08-16', '108', '29.8', '26.8', '34.3']\n",
      "['\\t2024-08-17', '108', '29.8', '27.2', '34']\n",
      "['\\t2024-08-18', '108', '29.5', '27', '33.9']\n",
      "['\\t2024-08-19', '108', '29.7', '26.3', '35.3']\n",
      "['\\t2024-08-20', '108', '31.4', '27', '35.4']\n",
      "['\\t2024-08-21', '108', '28.4', '26.9', '30.8']\n",
      "['\\t2024-08-22', '108', '28.6', '27.1', '30.3']\n",
      "['\\t2024-08-23', '108', '28.4', '26.4', '31.8']\n",
      "['\\t2024-08-24', '108', '27.6', '25.1', '30.9']\n",
      "['\\t2024-08-25', '108', '28.5', '24.9', '32.7']\n",
      "['\\t2024-08-26', '108', '28.1', '25.6', '30.6']\n",
      "['\\t2024-08-27', '108', '26.5', '24.6', '30.3']\n",
      "['\\t2024-08-28', '108', '28.2', '23', '33.2']\n",
      "['\\t2024-08-29', '108', '28.4', '23.4', '33.5']\n",
      "['\\t2024-08-30', '108', '28', '23.7', '32.9']\n",
      "['\\t2024-08-31', '108', '27.6', '22.6', '33']\n",
      "['\\t2024-09-01', '108', '27.1', '24.6', '31.6']\n",
      "['\\t2024-09-02', '108', '24.5', '22.2', '26.9']\n",
      "['\\t2024-09-03', '108', '27', '23.2', '32']\n",
      "['\\t2024-09-04', '108', '27.9', '23.2', '33.3']\n",
      "['\\t2024-09-05', '108', '26.3', '25.6', '28.8']\n",
      "['\\t2024-09-06', '108', '24', '23.3', '25.7']\n",
      "['\\t2024-09-07', '108', '26.5', '22.8', '31.3']\n",
      "['\\t2024-09-08', '108', '27.2', '22.6', '32.8']\n",
      "['\\t2024-09-09', '108', '28.5', '24.1', '34.1']\n",
      "['\\t2024-09-10', '108', '29.4', '25.6', '33.9']\n",
      "['\\t2024-09-11', '108', '29', '25.4', '34.6']\n",
      "['\\t2024-09-12', '108', '25.4', '24.8', '27.1']\n",
      "['\\t2024-09-13', '108', '25.9', '24.2', '28']\n",
      "['\\t2024-09-14', '108', '28', '25.2', '32.2']\n",
      "['\\t', '', '', '', '']\n"
     ]
    }
   ],
   "source": [
    "import csv\n",
    "\n",
    "with open('w03-Seoul-temperature.csv', 'r', encoding = 'cp949') as f:\n",
    "    data = csv.reader(f)\n",
    "    for row in data:\n",
    "        print(row)"
   ]
  },
  {
   "cell_type": "code",
   "execution_count": 35,
   "id": "e8ec7d46-53cd-4c38-9a13-4b04e1636ff0",
   "metadata": {},
   "outputs": [
    {
     "name": "stdout",
     "output_type": "stream",
     "text": [
      "['\\t', '', '', '', '']\n"
     ]
    }
   ],
   "source": [
    "import csv\n",
    "\n",
    "f = open('w03-Seoul-temperature.csv', 'r', encoding = 'cp949')\n",
    "data = csv.reader(f)\n",
    "\n",
    "for row in data:\n",
    "    if '' in row:\n",
    "        print(row)\n",
    "#        break\n",
    "\n",
    "f.close()"
   ]
  },
  {
   "cell_type": "code",
   "execution_count": 41,
   "id": "fde42367-29c3-49b2-8c10-161e1dd58eae",
   "metadata": {},
   "outputs": [
    {
     "name": "stdout",
     "output_type": "stream",
     "text": [
      "['날짜', '지점', '평균기온(℃)', '최저기온(℃)', '최고기온(℃)']\n"
     ]
    }
   ],
   "source": [
    "# header (next()함수)(1)\n",
    "import csv\n",
    "\n",
    "f = open('w03-Seoul-temperature.csv', 'r', encoding = 'cp949')\n",
    "data = csv.reader(f)\n",
    "\n",
    "header = next(data)\n",
    "print(header)\n",
    "\n",
    "f.close()"
   ]
  },
  {
   "cell_type": "code",
   "execution_count": 43,
   "id": "f7d10b1c-2b61-4572-8d84-93a394fcd127",
   "metadata": {},
   "outputs": [
    {
     "name": "stdout",
     "output_type": "stream",
     "text": [
      "['날짜', '지점', '평균기온(℃)', '최저기온(℃)', '최고기온(℃)']\n",
      "['\\t2024-08-16', '108', '29.8', '26.8', '34.3']\n",
      "['\\t2024-08-17', '108', '29.8', '27.2', '34']\n",
      "['\\t2024-08-18', '108', '29.5', '27', '33.9']\n",
      "['\\t2024-08-19', '108', '29.7', '26.3', '35.3']\n",
      "['\\t2024-08-20', '108', '31.4', '27', '35.4']\n",
      "['\\t2024-08-21', '108', '28.4', '26.9', '30.8']\n",
      "['\\t2024-08-22', '108', '28.6', '27.1', '30.3']\n",
      "['\\t2024-08-23', '108', '28.4', '26.4', '31.8']\n",
      "['\\t2024-08-24', '108', '27.6', '25.1', '30.9']\n",
      "['\\t2024-08-25', '108', '28.5', '24.9', '32.7']\n",
      "['\\t2024-08-26', '108', '28.1', '25.6', '30.6']\n",
      "['\\t2024-08-27', '108', '26.5', '24.6', '30.3']\n",
      "['\\t2024-08-28', '108', '28.2', '23', '33.2']\n",
      "['\\t2024-08-29', '108', '28.4', '23.4', '33.5']\n",
      "['\\t2024-08-30', '108', '28', '23.7', '32.9']\n",
      "['\\t2024-08-31', '108', '27.6', '22.6', '33']\n",
      "['\\t2024-09-01', '108', '27.1', '24.6', '31.6']\n",
      "['\\t2024-09-02', '108', '24.5', '22.2', '26.9']\n",
      "['\\t2024-09-03', '108', '27', '23.2', '32']\n",
      "['\\t2024-09-04', '108', '27.9', '23.2', '33.3']\n",
      "['\\t2024-09-05', '108', '26.3', '25.6', '28.8']\n",
      "['\\t2024-09-06', '108', '24', '23.3', '25.7']\n",
      "['\\t2024-09-07', '108', '26.5', '22.8', '31.3']\n",
      "['\\t2024-09-08', '108', '27.2', '22.6', '32.8']\n",
      "['\\t2024-09-09', '108', '28.5', '24.1', '34.1']\n",
      "['\\t2024-09-10', '108', '29.4', '25.6', '33.9']\n",
      "['\\t2024-09-11', '108', '29', '25.4', '34.6']\n",
      "['\\t2024-09-12', '108', '25.4', '24.8', '27.1']\n",
      "['\\t2024-09-13', '108', '25.9', '24.2', '28']\n",
      "['\\t2024-09-14', '108', '28', '25.2', '32.2']\n",
      "['\\t', '', '', '', '']\n"
     ]
    }
   ],
   "source": [
    "# header (next()함수)(2)\n",
    "import csv\n",
    "\n",
    "f = open('w03-Seoul-temperature.csv', 'r', encoding = 'cp949')\n",
    "data = csv.reader(f)\n",
    "\n",
    "header = next(data)\n",
    "print(header)\n",
    "\n",
    "for row in data:\n",
    "    print(row)\n",
    "\n",
    "f.close()"
   ]
  },
  {
   "cell_type": "markdown",
   "id": "a0ad0193-3a4a-4a22-86ec-bf2b67546ee0",
   "metadata": {},
   "source": [
    "# 3-2"
   ]
  },
  {
   "cell_type": "code",
   "execution_count": 5,
   "id": "a91079f7-2949-4c52-a238-97c0f6b4c0c5",
   "metadata": {},
   "outputs": [
    {
     "name": "stdout",
     "output_type": "stream",
     "text": [
      "['날짜', '지점', '평균기온(℃)', '최저기온(℃)', '최고기온(℃)']\n",
      "['\\t2024-08-16', '108', '29.8', '26.8', '34.3']\n",
      "['\\t2024-08-17', '108', '29.8', '27.2', '34']\n",
      "['\\t2024-08-18', '108', '29.5', '27', '33.9']\n",
      "['\\t2024-08-19', '108', '29.7', '26.3', '35.3']\n",
      "['\\t2024-08-20', '108', '31.4', '27', '35.4']\n",
      "['\\t2024-08-21', '108', '28.4', '26.9', '30.8']\n",
      "['\\t2024-08-22', '108', '28.6', '27.1', '30.3']\n",
      "['\\t2024-08-23', '108', '28.4', '26.4', '31.8']\n",
      "['\\t2024-08-24', '108', '27.6', '25.1', '30.9']\n",
      "['\\t2024-08-25', '108', '28.5', '24.9', '32.7']\n",
      "['\\t2024-08-26', '108', '28.1', '25.6', '30.6']\n",
      "['\\t2024-08-27', '108', '26.5', '24.6', '30.3']\n",
      "['\\t2024-08-28', '108', '28.2', '23', '33.2']\n",
      "['\\t2024-08-29', '108', '28.4', '23.4', '33.5']\n",
      "['\\t2024-08-30', '108', '28', '23.7', '32.9']\n",
      "['\\t2024-08-31', '108', '27.6', '22.6', '33']\n",
      "['\\t2024-09-01', '108', '27.1', '24.6', '31.6']\n",
      "['\\t2024-09-02', '108', '24.5', '22.2', '26.9']\n",
      "['\\t2024-09-03', '108', '27', '23.2', '32']\n",
      "['\\t2024-09-04', '108', '27.9', '23.2', '33.3']\n",
      "['\\t2024-09-05', '108', '26.3', '25.6', '28.8']\n",
      "['\\t2024-09-06', '108', '24', '23.3', '25.7']\n",
      "['\\t2024-09-07', '108', '26.5', '22.8', '31.3']\n",
      "['\\t2024-09-08', '108', '27.2', '22.6', '32.8']\n",
      "['\\t2024-09-09', '108', '28.5', '24.1', '34.1']\n",
      "['\\t2024-09-10', '108', '29.4', '25.6', '33.9']\n",
      "['\\t2024-09-11', '108', '29', '25.4', '34.6']\n",
      "['\\t2024-09-12', '108', '25.4', '24.8', '27.1']\n",
      "['\\t2024-09-13', '108', '25.9', '24.2', '28']\n",
      "['\\t2024-09-14', '108', '28', '25.2', '32.2']\n",
      "['\\t', '', '', '', '']\n"
     ]
    }
   ],
   "source": [
    "import csv\n",
    "\n",
    "with open('w03-Seoul-temperature.csv', 'r', encoding = 'cp949') as f:\n",
    "    data = csv.reader(f)\n",
    "    for row in data:\n",
    "        print(row)"
   ]
  },
  {
   "cell_type": "code",
   "execution_count": 7,
   "id": "a3c36c25-a817-4cb2-af83-3f638ba43ecb",
   "metadata": {},
   "outputs": [
    {
     "name": "stdout",
     "output_type": "stream",
     "text": [
      "['\\t', '', '', '', '']\n"
     ]
    }
   ],
   "source": [
    "import csv\n",
    "\n",
    "f = open('w03-Seoul-temperature.csv', 'r', encoding = 'cp949')\n",
    "data = csv.reader(f)\n",
    "\n",
    "for row in data:\n",
    "    if '' in row:\n",
    "        print(row)\n",
    "#        break\n",
    "\n",
    "f.close()"
   ]
  },
  {
   "cell_type": "code",
   "execution_count": 9,
   "id": "984f2aa7-b976-4282-a359-9e418d004445",
   "metadata": {},
   "outputs": [
    {
     "name": "stdout",
     "output_type": "stream",
     "text": [
      "['날짜', '지점', '평균기온(℃)', '최저기온(℃)', '최고기온(℃)']\n"
     ]
    }
   ],
   "source": [
    "import csv\n",
    "\n",
    "f = open('w03-Seoul-temperature.csv', 'r', encoding = 'cp949')\n",
    "data = csv.reader(f)\n",
    "\n",
    "header = next(data)\n",
    "print(header)\n",
    "\n",
    "f.close()"
   ]
  },
  {
   "cell_type": "code",
   "execution_count": 11,
   "id": "dedfb57a-86ad-4ad7-b206-7d9ffa3c1fbd",
   "metadata": {},
   "outputs": [
    {
     "name": "stdout",
     "output_type": "stream",
     "text": [
      "['날짜', '지점', '평균기온(℃)', '최저기온(℃)', '최고기온(℃)']\n",
      "['\\t2024-08-16', '108', '29.8', '26.8', '34.3']\n",
      "['\\t2024-08-17', '108', '29.8', '27.2', '34']\n",
      "['\\t2024-08-18', '108', '29.5', '27', '33.9']\n",
      "['\\t2024-08-19', '108', '29.7', '26.3', '35.3']\n",
      "['\\t2024-08-20', '108', '31.4', '27', '35.4']\n",
      "['\\t2024-08-21', '108', '28.4', '26.9', '30.8']\n",
      "['\\t2024-08-22', '108', '28.6', '27.1', '30.3']\n",
      "['\\t2024-08-23', '108', '28.4', '26.4', '31.8']\n",
      "['\\t2024-08-24', '108', '27.6', '25.1', '30.9']\n",
      "['\\t2024-08-25', '108', '28.5', '24.9', '32.7']\n",
      "['\\t2024-08-26', '108', '28.1', '25.6', '30.6']\n",
      "['\\t2024-08-27', '108', '26.5', '24.6', '30.3']\n",
      "['\\t2024-08-28', '108', '28.2', '23', '33.2']\n",
      "['\\t2024-08-29', '108', '28.4', '23.4', '33.5']\n",
      "['\\t2024-08-30', '108', '28', '23.7', '32.9']\n",
      "['\\t2024-08-31', '108', '27.6', '22.6', '33']\n",
      "['\\t2024-09-01', '108', '27.1', '24.6', '31.6']\n",
      "['\\t2024-09-02', '108', '24.5', '22.2', '26.9']\n",
      "['\\t2024-09-03', '108', '27', '23.2', '32']\n",
      "['\\t2024-09-04', '108', '27.9', '23.2', '33.3']\n",
      "['\\t2024-09-05', '108', '26.3', '25.6', '28.8']\n",
      "['\\t2024-09-06', '108', '24', '23.3', '25.7']\n",
      "['\\t2024-09-07', '108', '26.5', '22.8', '31.3']\n",
      "['\\t2024-09-08', '108', '27.2', '22.6', '32.8']\n",
      "['\\t2024-09-09', '108', '28.5', '24.1', '34.1']\n",
      "['\\t2024-09-10', '108', '29.4', '25.6', '33.9']\n",
      "['\\t2024-09-11', '108', '29', '25.4', '34.6']\n",
      "['\\t2024-09-12', '108', '25.4', '24.8', '27.1']\n",
      "['\\t2024-09-13', '108', '25.9', '24.2', '28']\n",
      "['\\t2024-09-14', '108', '28', '25.2', '32.2']\n",
      "['\\t', '', '', '', '']\n"
     ]
    }
   ],
   "source": [
    "import csv\n",
    "\n",
    "f = open('w03-Seoul-temperature.csv', 'r', encoding = 'cp949')\n",
    "data = csv.reader(f)\n",
    "\n",
    "header = next(data)\n",
    "print(header)\n",
    "\n",
    "for row in data:\n",
    "    print(row)\n",
    "\n",
    "f.close()"
   ]
  },
  {
   "cell_type": "code",
   "execution_count": 1,
   "id": "eeead287-8129-4720-81f1-4fcb539f75d6",
   "metadata": {},
   "outputs": [
    {
     "name": "stdout",
     "output_type": "stream",
     "text": [
      "['날짜', '지점', '평균기온(℃)', '최저기온(℃)', '최고기온(℃)']\n",
      "['\\t2024-08-16', '108', '29.8', '26.8', '34.3']\n"
     ]
    }
   ],
   "source": [
    "import csv\n",
    "\n",
    "f = open('w03-Seoul-temperature.csv', 'r', encoding = 'cp949')\n",
    "data = csv.reader(f)\n",
    "header = next(data)\n",
    "\n",
    "print(header)\n",
    "for row in data:\n",
    "    print(row)\n",
    "    break\n",
    "\n",
    "f.close()"
   ]
  },
  {
   "cell_type": "code",
   "execution_count": 31,
   "id": "ee085b86-cb76-477a-b959-2f104b4698a9",
   "metadata": {},
   "outputs": [
    {
     "name": "stdout",
     "output_type": "stream",
     "text": [
      "['날짜', '지점', '평균기온(℃)', '최저기온(℃)', '최고기온(℃)']\n",
      "['\\t2024-08-16', '108', '29.8', '26.8', 34.3]\n"
     ]
    }
   ],
   "source": [
    "import csv\n",
    "\n",
    "f = open('w03-Seoul-temperature.csv', 'r', encoding = 'cp949')\n",
    "data = csv.reader(f)\n",
    "header = next(data)\n",
    "\n",
    "print(header)\n",
    "for row in data:\n",
    "    row[4] = float(row[4])\n",
    "    print(row)\n",
    "    break\n",
    "\n",
    "f.close()"
   ]
  },
  {
   "cell_type": "code",
   "execution_count": 35,
   "id": "dffc236a-64c4-4811-9104-e15e3a61da33",
   "metadata": {},
   "outputs": [
    {
     "name": "stdout",
     "output_type": "stream",
     "text": [
      "['날짜', '지점', '평균기온(℃)', '최저기온(℃)', '최고기온(℃)']\n",
      "['\\t2024-08-16', '108', '29.8', '26.8', 34.3]\n",
      "['\\t2024-08-17', '108', '29.8', '27.2', 34.0]\n",
      "['\\t2024-08-18', '108', '29.5', '27', 33.9]\n",
      "['\\t2024-08-19', '108', '29.7', '26.3', 35.3]\n",
      "['\\t2024-08-20', '108', '31.4', '27', 35.4]\n",
      "['\\t2024-08-21', '108', '28.4', '26.9', 30.8]\n",
      "['\\t2024-08-22', '108', '28.6', '27.1', 30.3]\n",
      "['\\t2024-08-23', '108', '28.4', '26.4', 31.8]\n",
      "['\\t2024-08-24', '108', '27.6', '25.1', 30.9]\n",
      "['\\t2024-08-25', '108', '28.5', '24.9', 32.7]\n",
      "['\\t2024-08-26', '108', '28.1', '25.6', 30.6]\n",
      "['\\t2024-08-27', '108', '26.5', '24.6', 30.3]\n",
      "['\\t2024-08-28', '108', '28.2', '23', 33.2]\n",
      "['\\t2024-08-29', '108', '28.4', '23.4', 33.5]\n",
      "['\\t2024-08-30', '108', '28', '23.7', 32.9]\n",
      "['\\t2024-08-31', '108', '27.6', '22.6', 33.0]\n",
      "['\\t2024-09-01', '108', '27.1', '24.6', 31.6]\n",
      "['\\t2024-09-02', '108', '24.5', '22.2', 26.9]\n",
      "['\\t2024-09-03', '108', '27', '23.2', 32.0]\n",
      "['\\t2024-09-04', '108', '27.9', '23.2', 33.3]\n",
      "['\\t2024-09-05', '108', '26.3', '25.6', 28.8]\n",
      "['\\t2024-09-06', '108', '24', '23.3', 25.7]\n",
      "['\\t2024-09-07', '108', '26.5', '22.8', 31.3]\n",
      "['\\t2024-09-08', '108', '27.2', '22.6', 32.8]\n",
      "['\\t2024-09-09', '108', '28.5', '24.1', 34.1]\n",
      "['\\t2024-09-10', '108', '29.4', '25.6', 33.9]\n",
      "['\\t2024-09-11', '108', '29', '25.4', 34.6]\n",
      "['\\t2024-09-12', '108', '25.4', '24.8', 27.1]\n",
      "['\\t2024-09-13', '108', '25.9', '24.2', 28.0]\n",
      "['\\t2024-09-14', '108', '28', '25.2', 32.2]\n"
     ]
    },
    {
     "ename": "ValueError",
     "evalue": "could not convert string to float: ''",
     "output_type": "error",
     "traceback": [
      "\u001b[1;31m---------------------------------------------------------------------------\u001b[0m",
      "\u001b[1;31mValueError\u001b[0m                                Traceback (most recent call last)",
      "Cell \u001b[1;32mIn[35], line 9\u001b[0m\n\u001b[0;32m      7\u001b[0m \u001b[38;5;28mprint\u001b[39m(header)\n\u001b[0;32m      8\u001b[0m \u001b[38;5;28;01mfor\u001b[39;00m row \u001b[38;5;129;01min\u001b[39;00m data:\n\u001b[1;32m----> 9\u001b[0m     row[\u001b[38;5;241m4\u001b[39m] \u001b[38;5;241m=\u001b[39m \u001b[38;5;28mfloat\u001b[39m(row[\u001b[38;5;241m4\u001b[39m])\n\u001b[0;32m     10\u001b[0m     \u001b[38;5;28mprint\u001b[39m(row)\n\u001b[0;32m     12\u001b[0m f\u001b[38;5;241m.\u001b[39mclose()\n",
      "\u001b[1;31mValueError\u001b[0m: could not convert string to float: ''"
     ]
    }
   ],
   "source": [
    "import csv\n",
    "\n",
    "f = open('w03-Seoul-temperature.csv', 'r', encoding = 'cp949')\n",
    "data = csv.reader(f)\n",
    "header = next(data)\n",
    "\n",
    "print(header)\n",
    "for row in data:\n",
    "    row[4] = float(row[4])\n",
    "    print(row)\n",
    "\n",
    "f.close()"
   ]
  },
  {
   "cell_type": "code",
   "execution_count": 37,
   "id": "32004c3b-83ad-4e89-bfe1-f01cf7c87b79",
   "metadata": {},
   "outputs": [
    {
     "name": "stdout",
     "output_type": "stream",
     "text": [
      "['날짜', '지점', '평균기온(℃)', '최저기온(℃)', '최고기온(℃)']\n",
      "['\\t2024-08-16', '108', '29.8', '26.8', 34.3]\n",
      "['\\t2024-08-17', '108', '29.8', '27.2', 34.0]\n",
      "['\\t2024-08-18', '108', '29.5', '27', 33.9]\n",
      "['\\t2024-08-19', '108', '29.7', '26.3', 35.3]\n",
      "['\\t2024-08-20', '108', '31.4', '27', 35.4]\n",
      "['\\t2024-08-21', '108', '28.4', '26.9', 30.8]\n",
      "['\\t2024-08-22', '108', '28.6', '27.1', 30.3]\n",
      "['\\t2024-08-23', '108', '28.4', '26.4', 31.8]\n",
      "['\\t2024-08-24', '108', '27.6', '25.1', 30.9]\n",
      "['\\t2024-08-25', '108', '28.5', '24.9', 32.7]\n",
      "['\\t2024-08-26', '108', '28.1', '25.6', 30.6]\n",
      "['\\t2024-08-27', '108', '26.5', '24.6', 30.3]\n",
      "['\\t2024-08-28', '108', '28.2', '23', 33.2]\n",
      "['\\t2024-08-29', '108', '28.4', '23.4', 33.5]\n",
      "['\\t2024-08-30', '108', '28', '23.7', 32.9]\n",
      "['\\t2024-08-31', '108', '27.6', '22.6', 33.0]\n",
      "['\\t2024-09-01', '108', '27.1', '24.6', 31.6]\n",
      "['\\t2024-09-02', '108', '24.5', '22.2', 26.9]\n",
      "['\\t2024-09-03', '108', '27', '23.2', 32.0]\n",
      "['\\t2024-09-04', '108', '27.9', '23.2', 33.3]\n",
      "['\\t2024-09-05', '108', '26.3', '25.6', 28.8]\n",
      "['\\t2024-09-06', '108', '24', '23.3', 25.7]\n",
      "['\\t2024-09-07', '108', '26.5', '22.8', 31.3]\n",
      "['\\t2024-09-08', '108', '27.2', '22.6', 32.8]\n",
      "['\\t2024-09-09', '108', '28.5', '24.1', 34.1]\n",
      "['\\t2024-09-10', '108', '29.4', '25.6', 33.9]\n",
      "['\\t2024-09-11', '108', '29', '25.4', 34.6]\n",
      "['\\t2024-09-12', '108', '25.4', '24.8', 27.1]\n",
      "['\\t2024-09-13', '108', '25.9', '24.2', 28.0]\n",
      "['\\t2024-09-14', '108', '28', '25.2', 32.2]\n",
      "['\\t', '', '', '', -999.0]\n"
     ]
    }
   ],
   "source": [
    "# 결측값 대체\n",
    "\n",
    "import csv\n",
    "\n",
    "f = open('w03-Seoul-temperature.csv', 'r', encoding = 'cp949')\n",
    "data = csv.reader(f)\n",
    "header = next(data)\n",
    "\n",
    "print(header)\n",
    "for row in data:\n",
    "    if row[4] == '':\n",
    "        row[4] = -999\n",
    "\n",
    "    row[4] = float(row[4])\n",
    "    print(row)\n",
    "\n",
    "f.close()"
   ]
  },
  {
   "cell_type": "markdown",
   "id": "65029065-3c44-48d0-b9e3-2ca1a3012d2b",
   "metadata": {},
   "source": [
    "# 최고 기온이 가장 높은 날과 그 기온"
   ]
  },
  {
   "cell_type": "code",
   "execution_count": 44,
   "id": "1043a4e8-5f8d-497a-9d29-f6cabd9972b4",
   "metadata": {},
   "outputs": [
    {
     "name": "stdout",
     "output_type": "stream",
     "text": [
      "기상 관측 이래 서울의 최고 기온이 가장 높았던 날은 \t2024-08-20로 35.4 도 였습니다.\n"
     ]
    }
   ],
   "source": [
    "# 최고 기온이 가장 높은 날과 그 기온\n",
    "\n",
    "import csv\n",
    "\n",
    "max_temp = -999 # 최고 기온 값을 저장\n",
    "max_date = ''   # 최고 기온이 가장 높았던 날짜를 저장 \n",
    "\n",
    "f = open('w03-Seoul-temperature.csv', 'r', encoding = 'cp949')\n",
    "data = csv.reader(f)\n",
    "header = next(data)\n",
    "\n",
    "for row in data:\n",
    "    if row[4] == '':  # 빈 문자열 찾기\n",
    "        row[4] = -999 # 빈 문자열에 -999 넣기\n",
    "\n",
    "    row[4] = float(row[4])\n",
    "\n",
    "    if max_temp < row[4]:\n",
    "        max_temp = row[4]   # 최고 기온 업데이트\n",
    "        max_date = row[0]   # 최고 기온 날짜 업데이트\n",
    "\n",
    "f.close()\n",
    "\n",
    "print('기상 관측 이래 서울의 최고 기온이 가장 높았던 날은',max_date + '로',max_temp, '도 였습니다.')"
   ]
  },
  {
   "cell_type": "code",
   "execution_count": 54,
   "id": "51c34963-91fc-4ad2-bebe-c754685ce5fb",
   "metadata": {},
   "outputs": [
    {
     "name": "stdout",
     "output_type": "stream",
     "text": [
      "서울 최고 기온, 일자: 2024-08-20, 기온: 35.4\n"
     ]
    }
   ],
   "source": [
    "# 최고 기온이 가장 높은 날과 그 기온\n",
    "\n",
    "import csv\n",
    "\n",
    "max_temp = -999 # 최고 기온 값을 저장\n",
    "max_date = ''   # 최고 기온이 가장 높았던 날짜를 저장 \n",
    "\n",
    "with open('w03-Seoul-temperature.csv', 'r', encoding = 'cp949') as f:\n",
    "    data = csv.reader(f)\n",
    "    header = next(data)\n",
    "\n",
    "    for row in data:\n",
    "        if row[4] == '':  # 빈 문자열 찾기\n",
    "            row[4] = -999 # 빈 문자열에 -999 넣기\n",
    "\n",
    "        row[4] = float(row[4])\n",
    "\n",
    "        if max_temp < row[4]:\n",
    "            max_temp = row[4]           # 최고 기온 업데이트\n",
    "            max_date = row[0].strip()   # 최고 기온 날짜 업데이트(strip은 공백제거)\n",
    "\n",
    "print(f'서울 최고 기온, 일자: {max_date}, 기온: {max_temp}')"
   ]
  },
  {
   "cell_type": "markdown",
   "id": "416de614-cea6-4b28-a8f9-65853c427e17",
   "metadata": {},
   "source": [
    "# 가장 추웠던 날"
   ]
  },
  {
   "cell_type": "code",
   "execution_count": 63,
   "id": "a849f772-bacd-4175-9111-6d14d2ec5f52",
   "metadata": {},
   "outputs": [
    {
     "name": "stdout",
     "output_type": "stream",
     "text": [
      "서울 최저 기온, 일자: 2024-09-02, 기온: 22.2\n"
     ]
    }
   ],
   "source": [
    "# 기온이 가장 낮은 날과 그 기온\n",
    "\n",
    "import csv\n",
    "\n",
    "min_temp = 999 # 최저 기온 값을 저장\n",
    "min_date = ''   # 기온이 가장 낮은 날짜를 저장 \n",
    "\n",
    "with open('w03-Seoul-temperature.csv', 'r', encoding = 'cp949') as f:\n",
    "    data = csv.reader(f)\n",
    "    header = next(data)\n",
    "\n",
    "    for row in data:\n",
    "        if row[3] == '':  # 빈 문자열 찾기\n",
    "            row[3] = 999 # 빈 문자열에 999 넣기\n",
    "\n",
    "        row[3] = float(row[3])\n",
    "\n",
    "        if min_temp > row[3]:\n",
    "            min_temp = row[3]           # 최저 기온 업데이트\n",
    "            min_date = row[0].strip()   # 최저 기온 날짜 업데이트(strip은 공백제거)\n",
    "\n",
    "print(f'서울 최저 기온, 일자: {max_date}, 기온: {max_temp}')"
   ]
  },
  {
   "cell_type": "markdown",
   "id": "d1a6a0db-467b-43f1-b53a-fa8e52f44549",
   "metadata": {},
   "source": [
    "# 최고,최저기온 10개"
   ]
  },
  {
   "cell_type": "code",
   "execution_count": 71,
   "id": "7d834df4-2b36-4f73-8e82-63f9db5bffbe",
   "metadata": {},
   "outputs": [
    {
     "name": "stdout",
     "output_type": "stream",
     "text": [
      "서울 최고 기온 10개\n",
      "[35.4, 35.3, 34.6, 34.3, 34.1, 34.0, 33.9, 33.9, 33.5, 33.3]\n",
      "서울 최저 기온 10개\n",
      "[22.2, 22.6, 22.6, 22.8, 23.0, 23.2, 23.2, 23.3, 23.4, 23.7]\n"
     ]
    }
   ],
   "source": [
    "import csv\n",
    "\n",
    "max_temp = []\n",
    "min_temp = []\n",
    "\n",
    "with open('w03-Seoul-temperature.csv', 'r', encoding = 'cp949') as f:\n",
    "    data = csv.reader(f)\n",
    "    header = next(data)\n",
    "\n",
    "    for row in data:            # 공백 제거\n",
    "        if row[3] == '':\n",
    "            row[3] = 999\n",
    "        if row[4] == '':\n",
    "            row[4] = -999\n",
    "\n",
    "        row[3] = float(row[3])  # float 변환\n",
    "        row[4] = float(row[4])  # float 변환\n",
    "\n",
    "        min_temp.append(row[3])  # 최저기온 저장 \n",
    "        max_temp.append(row[4])  # 최고기온 저장 \n",
    "\n",
    "print(f'서울 최고 기온 10개')\n",
    "max_temp.sort(reverse = True)    # 최고기온 내림차순으로 정렬  \n",
    "print(max_temp[:10])             # 최고기온 10개 출력(0~9번)\n",
    "\n",
    "print(f'서울 최저 기온 10개')\n",
    "min_temp.sort()                  # 최저기온 올림차순으로 정렬 \n",
    "print(min_temp[:10])             # 최저기온 10개 출력(0~9번)"
   ]
  },
  {
   "cell_type": "markdown",
   "id": "fce20e67-2e68-4964-87a3-34d63d28bba2",
   "metadata": {},
   "source": [
    "# matplotlib과 numpy"
   ]
  },
  {
   "cell_type": "code",
   "execution_count": 76,
   "id": "6cf7d9a3-63c1-48af-9683-ef9468603d64",
   "metadata": {},
   "outputs": [
    {
     "name": "stdout",
     "output_type": "stream",
     "text": [
      "Name: matplotlib\n",
      "Version: 3.8.4\n",
      "Summary: Python plotting package\n",
      "Home-page: https://matplotlib.org\n",
      "Author: John D. Hunter, Michael Droettboom\n",
      "Author-email: matplotlib-users@python.org\n",
      "License: PSF\n",
      "Location: C:\\Users\\SS\\anaconda3\\Lib\\site-packages\n",
      "Requires: contourpy, cycler, fonttools, kiwisolver, numpy, packaging, pillow, pyparsing, python-dateutil\n",
      "Required-by: seaborn\n",
      "Note: you may need to restart the kernel to use updated packages.\n"
     ]
    }
   ],
   "source": [
    "pip show matplotlib"
   ]
  },
  {
   "cell_type": "code",
   "execution_count": 78,
   "id": "390a6deb-4033-433b-a0e3-60a98e91d148",
   "metadata": {},
   "outputs": [
    {
     "name": "stdout",
     "output_type": "stream",
     "text": [
      "Name: numpy\n",
      "Version: 1.26.4\n",
      "Summary: Fundamental package for array computing in Python\n",
      "Home-page: https://numpy.org\n",
      "Author: Travis E. Oliphant et al.\n",
      "Author-email: \n",
      "License: Copyright (c) 2005-2023, NumPy Developers.\n",
      "All rights reserved.\n",
      "\n",
      "Redistribution and use in source and binary forms, with or without\n",
      "modification, are permitted provided that the following conditions are\n",
      "met:\n",
      "\n",
      "    * Redistributions of source code must retain the above copyright\n",
      "       notice, this list of conditions and the following disclaimer.\n",
      "\n",
      "    * Redistributions in binary form must reproduce the above\n",
      "       copyright notice, this list of conditions and the following\n",
      "       disclaimer in the documentation and/or other materials provided\n",
      "       with the distribution.\n",
      "\n",
      "    * Neither the name of the NumPy Developers nor the names of any\n",
      "       contributors may be used to endorse or promote products derived\n",
      "       from this software without specific prior written permission.\n",
      "\n",
      "THIS SOFTWARE IS PROVIDED BY THE COPYRIGHT HOLDERS AND CONTRIBUTORS\n",
      "\"AS IS\" AND ANY EXPRESS OR IMPLIED WARRANTIES, INCLUDING, BUT NOT\n",
      "LIMITED TO, THE IMPLIED WARRANTIES OF MERCHANTABILITY AND FITNESS FOR\n",
      "A PARTICULAR PURPOSE ARE DISCLAIMED. IN NO EVENT SHALL THE COPYRIGHT\n",
      "OWNER OR CONTRIBUTORS BE LIABLE FOR ANY DIRECT, INDIRECT, INCIDENTAL,\n",
      "SPECIAL, EXEMPLARY, OR CONSEQUENTIAL DAMAGES (INCLUDING, BUT NOT\n",
      "LIMITED TO, PROCUREMENT OF SUBSTITUTE GOODS OR SERVICES; LOSS OF USE,\n",
      "DATA, OR PROFITS; OR BUSINESS INTERRUPTION) HOWEVER CAUSED AND ON ANY\n",
      "THEORY OF LIABILITY, WHETHER IN CONTRACT, STRICT LIABILITY, OR TORT\n",
      "(INCLUDING NEGLIGENCE OR OTHERWISE) ARISING IN ANY WAY OUT OF THE USE\n",
      "OF THIS SOFTWARE, EVEN IF ADVISED OF THE POSSIBILITY OF SUCH DAMAGE.\n",
      "Location: C:\\Users\\SS\\anaconda3\\Lib\\site-packages\n",
      "Requires: \n",
      "Required-by: altair, astropy, bokeh, Bottleneck, contourpy, datashader, gensim, h5py, holoviews, hvplot, imagecodecs, imageio, imbalanced-learn, matplotlib, mkl-fft, mkl-random, numba, numexpr, pandas, patsy, pyarrow, pydeck, pyerfa, pywavelets, scikit-image, scikit-learn, scipy, seaborn, statsmodels, streamlit, tables, tifffile, xarray\n",
      "Note: you may need to restart the kernel to use updated packages.\n"
     ]
    }
   ],
   "source": [
    "pip show numpy"
   ]
  },
  {
   "cell_type": "markdown",
   "id": "7a8172b3-16c7-4917-bfae-ac7785679169",
   "metadata": {},
   "source": [
    "- np.array(), np.arange()와 ndarray유형"
   ]
  },
  {
   "cell_type": "code",
   "execution_count": 91,
   "id": "3a46aafa-4b96-4dd3-903f-4622ecd071ef",
   "metadata": {},
   "outputs": [],
   "source": [
    "import numpy as np\n",
    "\n",
    "a = np.array([6,7,8])"
   ]
  },
  {
   "cell_type": "code",
   "execution_count": 93,
   "id": "82df4914-7f24-47ca-907f-3934cd0e3d5c",
   "metadata": {},
   "outputs": [
    {
     "data": {
      "text/plain": [
       "array([6, 7, 8])"
      ]
     },
     "execution_count": 93,
     "metadata": {},
     "output_type": "execute_result"
    }
   ],
   "source": [
    "a"
   ]
  },
  {
   "cell_type": "code",
   "execution_count": 97,
   "id": "33a60c7f-865d-4447-9760-7bb266647b38",
   "metadata": {},
   "outputs": [
    {
     "data": {
      "text/plain": [
       "numpy.ndarray"
      ]
     },
     "execution_count": 97,
     "metadata": {},
     "output_type": "execute_result"
    }
   ],
   "source": [
    "type(a)"
   ]
  },
  {
   "cell_type": "code",
   "execution_count": 95,
   "id": "b4f30096-1726-4f80-92ff-d50024a49060",
   "metadata": {},
   "outputs": [
    {
     "data": {
      "text/plain": [
       "array([ 0,  1,  2,  3,  4,  5,  6,  7,  8,  9, 10, 11, 12, 13, 14])"
      ]
     },
     "execution_count": 95,
     "metadata": {},
     "output_type": "execute_result"
    }
   ],
   "source": [
    "b = np.arange(15)\n",
    "b"
   ]
  },
  {
   "cell_type": "code",
   "execution_count": 99,
   "id": "3f8d318d-bf11-4f95-a13f-4731ba036cfd",
   "metadata": {},
   "outputs": [
    {
     "data": {
      "text/plain": [
       "numpy.ndarray"
      ]
     },
     "execution_count": 99,
     "metadata": {},
     "output_type": "execute_result"
    }
   ],
   "source": [
    "type(b)"
   ]
  },
  {
   "cell_type": "markdown",
   "id": "04013903-19cb-4b86-bb40-94f1c2743b7a",
   "metadata": {},
   "source": [
    "- 배열의 형태를 수정하는 array.reshape()"
   ]
  },
  {
   "cell_type": "code",
   "execution_count": 105,
   "id": "57a47737-4b53-4d24-a994-dc97656f77a0",
   "metadata": {},
   "outputs": [
    {
     "data": {
      "text/plain": [
       "array([[ 0,  1,  2,  3,  4],\n",
       "       [ 5,  6,  7,  8,  9],\n",
       "       [10, 11, 12, 13, 14]])"
      ]
     },
     "execution_count": 105,
     "metadata": {},
     "output_type": "execute_result"
    }
   ],
   "source": [
    "c = np.arange(15).reshape(3, 5)\n",
    "c"
   ]
  },
  {
   "cell_type": "code",
   "execution_count": 107,
   "id": "39c38d9d-7bc4-4d93-a19d-c64d7ee3c7fe",
   "metadata": {},
   "outputs": [
    {
     "data": {
      "text/plain": [
       "(3, 5)"
      ]
     },
     "execution_count": 107,
     "metadata": {},
     "output_type": "execute_result"
    }
   ],
   "source": [
    "c.shape"
   ]
  },
  {
   "cell_type": "code",
   "execution_count": 109,
   "id": "85a5826a-95a5-4742-965c-f56d198c9ead",
   "metadata": {},
   "outputs": [
    {
     "data": {
      "text/plain": [
       "2"
      ]
     },
     "execution_count": 109,
     "metadata": {},
     "output_type": "execute_result"
    }
   ],
   "source": [
    "c.ndim"
   ]
  },
  {
   "cell_type": "code",
   "execution_count": 111,
   "id": "a62802b6-9e90-4ffc-8c00-16f1b5793794",
   "metadata": {},
   "outputs": [
    {
     "data": {
      "text/plain": [
       "'int32'"
      ]
     },
     "execution_count": 111,
     "metadata": {},
     "output_type": "execute_result"
    }
   ],
   "source": [
    "c.dtype.name"
   ]
  },
  {
   "cell_type": "code",
   "execution_count": 115,
   "id": "85ab6ed0-e944-4181-9fae-60cdced4697c",
   "metadata": {},
   "outputs": [
    {
     "data": {
      "text/plain": [
       "4"
      ]
     },
     "execution_count": 115,
     "metadata": {},
     "output_type": "execute_result"
    }
   ],
   "source": [
    "c.itemsize # 각 원소의 메모리 바이트 크기 "
   ]
  },
  {
   "cell_type": "code",
   "execution_count": 117,
   "id": "c08663df-9d5a-42f6-b87b-ddfc86d17a5c",
   "metadata": {},
   "outputs": [
    {
     "data": {
      "text/plain": [
       "15"
      ]
     },
     "execution_count": 117,
     "metadata": {},
     "output_type": "execute_result"
    }
   ],
   "source": [
    "c.size"
   ]
  },
  {
   "cell_type": "code",
   "execution_count": 119,
   "id": "7d9b9418-9ebe-4dcb-89fe-e996d5b47481",
   "metadata": {},
   "outputs": [
    {
     "data": {
      "text/plain": [
       "numpy.ndarray"
      ]
     },
     "execution_count": 119,
     "metadata": {},
     "output_type": "execute_result"
    }
   ],
   "source": [
    "type(c)"
   ]
  },
  {
   "cell_type": "markdown",
   "id": "520d1402-0c0e-47a6-8ee2-877d52cfef88",
   "metadata": {},
   "source": [
    "- 등분하는 수의 배열 생성 np.linspace(start,stop,num) "
   ]
  },
  {
   "cell_type": "code",
   "execution_count": 123,
   "id": "4851a061-6103-46c1-8507-8bba8980e7ab",
   "metadata": {},
   "outputs": [
    {
     "data": {
      "text/plain": [
       "array([ 0.,  1.,  2.,  3.,  4.,  5.,  6.,  7.,  8.,  9., 10.])"
      ]
     },
     "execution_count": 123,
     "metadata": {},
     "output_type": "execute_result"
    }
   ],
   "source": [
    "# start에서 stop까지에서 그 사이를 num-1 등분\n",
    "\n",
    "np.linspace(0,10,11)"
   ]
  },
  {
   "cell_type": "code",
   "execution_count": 125,
   "id": "27f7787d-c1fc-4842-a2b2-15ceecfc01a7",
   "metadata": {},
   "outputs": [
    {
     "data": {
      "text/plain": [
       "array([ 0.        ,  1.11111111,  2.22222222,  3.33333333,  4.44444444,\n",
       "        5.55555556,  6.66666667,  7.77777778,  8.88888889, 10.        ])"
      ]
     },
     "execution_count": 125,
     "metadata": {},
     "output_type": "execute_result"
    }
   ],
   "source": [
    "np.linspace(0,10,10)"
   ]
  },
  {
   "cell_type": "code",
   "execution_count": 127,
   "id": "e890fdc8-34b6-4793-9769-6fce6d843a96",
   "metadata": {},
   "outputs": [
    {
     "data": {
      "text/plain": [
       "1.1111111111111112"
      ]
     },
     "execution_count": 127,
     "metadata": {},
     "output_type": "execute_result"
    }
   ],
   "source": [
    "# (stop - start) / (num - 1)\n",
    "(10 - 0) / (10 - 1)"
   ]
  },
  {
   "cell_type": "markdown",
   "id": "89a89539-005b-4a0c-a615-831f0f0d8790",
   "metadata": {},
   "source": [
    "- np.linspace()도움말"
   ]
  },
  {
   "cell_type": "code",
   "execution_count": 130,
   "id": "54e3396a-adda-46af-841a-53c24646bd82",
   "metadata": {},
   "outputs": [
    {
     "name": "stdout",
     "output_type": "stream",
     "text": [
      "Help on _ArrayFunctionDispatcher in module numpy:\n",
      "\n",
      "linspace(start, stop, num=50, endpoint=True, retstep=False, dtype=None, axis=0)\n",
      "    Return evenly spaced numbers over a specified interval.\n",
      "\n",
      "    Returns `num` evenly spaced samples, calculated over the\n",
      "    interval [`start`, `stop`].\n",
      "\n",
      "    The endpoint of the interval can optionally be excluded.\n",
      "\n",
      "    .. versionchanged:: 1.16.0\n",
      "        Non-scalar `start` and `stop` are now supported.\n",
      "\n",
      "    .. versionchanged:: 1.20.0\n",
      "        Values are rounded towards ``-inf`` instead of ``0`` when an\n",
      "        integer ``dtype`` is specified. The old behavior can\n",
      "        still be obtained with ``np.linspace(start, stop, num).astype(int)``\n",
      "\n",
      "    Parameters\n",
      "    ----------\n",
      "    start : array_like\n",
      "        The starting value of the sequence.\n",
      "    stop : array_like\n",
      "        The end value of the sequence, unless `endpoint` is set to False.\n",
      "        In that case, the sequence consists of all but the last of ``num + 1``\n",
      "        evenly spaced samples, so that `stop` is excluded.  Note that the step\n",
      "        size changes when `endpoint` is False.\n",
      "    num : int, optional\n",
      "        Number of samples to generate. Default is 50. Must be non-negative.\n",
      "    endpoint : bool, optional\n",
      "        If True, `stop` is the last sample. Otherwise, it is not included.\n",
      "        Default is True.\n",
      "    retstep : bool, optional\n",
      "        If True, return (`samples`, `step`), where `step` is the spacing\n",
      "        between samples.\n",
      "    dtype : dtype, optional\n",
      "        The type of the output array.  If `dtype` is not given, the data type\n",
      "        is inferred from `start` and `stop`. The inferred dtype will never be\n",
      "        an integer; `float` is chosen even if the arguments would produce an\n",
      "        array of integers.\n",
      "\n",
      "        .. versionadded:: 1.9.0\n",
      "\n",
      "    axis : int, optional\n",
      "        The axis in the result to store the samples.  Relevant only if start\n",
      "        or stop are array-like.  By default (0), the samples will be along a\n",
      "        new axis inserted at the beginning. Use -1 to get an axis at the end.\n",
      "\n",
      "        .. versionadded:: 1.16.0\n",
      "\n",
      "    Returns\n",
      "    -------\n",
      "    samples : ndarray\n",
      "        There are `num` equally spaced samples in the closed interval\n",
      "        ``[start, stop]`` or the half-open interval ``[start, stop)``\n",
      "        (depending on whether `endpoint` is True or False).\n",
      "    step : float, optional\n",
      "        Only returned if `retstep` is True\n",
      "\n",
      "        Size of spacing between samples.\n",
      "\n",
      "\n",
      "    See Also\n",
      "    --------\n",
      "    arange : Similar to `linspace`, but uses a step size (instead of the\n",
      "             number of samples).\n",
      "    geomspace : Similar to `linspace`, but with numbers spaced evenly on a log\n",
      "                scale (a geometric progression).\n",
      "    logspace : Similar to `geomspace`, but with the end points specified as\n",
      "               logarithms.\n",
      "    :ref:`how-to-partition`\n",
      "\n",
      "    Examples\n",
      "    --------\n",
      "    >>> np.linspace(2.0, 3.0, num=5)\n",
      "    array([2.  , 2.25, 2.5 , 2.75, 3.  ])\n",
      "    >>> np.linspace(2.0, 3.0, num=5, endpoint=False)\n",
      "    array([2. ,  2.2,  2.4,  2.6,  2.8])\n",
      "    >>> np.linspace(2.0, 3.0, num=5, retstep=True)\n",
      "    (array([2.  ,  2.25,  2.5 ,  2.75,  3.  ]), 0.25)\n",
      "\n",
      "    Graphical illustration:\n",
      "\n",
      "    >>> import matplotlib.pyplot as plt\n",
      "    >>> N = 8\n",
      "    >>> y = np.zeros(N)\n",
      "    >>> x1 = np.linspace(0, 10, N, endpoint=True)\n",
      "    >>> x2 = np.linspace(0, 10, N, endpoint=False)\n",
      "    >>> plt.plot(x1, y, 'o')\n",
      "    [<matplotlib.lines.Line2D object at 0x...>]\n",
      "    >>> plt.plot(x2, y + 0.5, 'o')\n",
      "    [<matplotlib.lines.Line2D object at 0x...>]\n",
      "    >>> plt.ylim([-0.5, 1])\n",
      "    (-0.5, 1)\n",
      "    >>> plt.show()\n",
      "\n"
     ]
    }
   ],
   "source": [
    "help(np.linspace)"
   ]
  },
  {
   "cell_type": "markdown",
   "id": "465d6c30-7007-4be0-adf6-334d4924a04e",
   "metadata": {},
   "source": [
    "- matplotlib과 numpy 설치"
   ]
  },
  {
   "cell_type": "code",
   "execution_count": 135,
   "id": "8834e494-ca70-4cd7-8662-3c37cfd70224",
   "metadata": {},
   "outputs": [
    {
     "name": "stdout",
     "output_type": "stream",
     "text": [
      "Name: matplotlib\n",
      "Version: 3.8.4\n",
      "Summary: Python plotting package\n",
      "Home-page: https://matplotlib.org\n",
      "Author: John D. Hunter, Michael Droettboom\n",
      "Author-email: matplotlib-users@python.org\n",
      "License: PSF\n",
      "Location: C:\\Users\\SS\\anaconda3\\Lib\\site-packages\n",
      "Requires: contourpy, cycler, fonttools, kiwisolver, numpy, packaging, pillow, pyparsing, python-dateutil\n",
      "Required-by: seaborn\n"
     ]
    }
   ],
   "source": [
    "!pip show matplotlib"
   ]
  },
  {
   "cell_type": "markdown",
   "id": "7d9c0a49-2a61-4c72-a4fb-a84a4c9ad0f9",
   "metadata": {},
   "source": [
    "# 그래프 그리기"
   ]
  },
  {
   "cell_type": "markdown",
   "id": "ea6dae52-64ef-4590-80aa-baefa32e5b9d",
   "metadata": {},
   "source": [
    "- 선 그래프 그리기:plt.plot()"
   ]
  },
  {
   "cell_type": "code",
   "execution_count": 147,
   "id": "92ab4aac-58c7-4668-8f40-327f20fb7ef3",
   "metadata": {},
   "outputs": [
    {
     "data": {
      "image/png": "[encoded data removed]",
      "text/plain": [
       "<Figure size 640x480 with 1 Axes>"
      ]
     },
     "metadata": {},
     "output_type": "display_data"
    }
   ],
   "source": [
    "import matplotlib.pyplot as plt\n",
    "\n",
    "plt.plot([0,1,2,3])  # Y축(X축은 자동) \n",
    "plt.show()"
   ]
  },
  {
   "cell_type": "code",
   "execution_count": 149,
   "id": "c2d15b19-bd32-42b3-914d-4bcaf02024fc",
   "metadata": {},
   "outputs": [
    {
     "data": {
      "image/png": "[encoded data removed]",
      "text/plain": [
       "<Figure size 640x480 with 1 Axes>"
      ]
     },
     "metadata": {},
     "output_type": "display_data"
    }
   ],
   "source": [
    "import matplotlib.pyplot as plt\n",
    "\n",
    "plt.plot([10,20,30,40])  # Y축(X축은 자동) \n",
    "plt.show()"
   ]
  },
  {
   "cell_type": "code",
   "execution_count": 151,
   "id": "075e05f2-f617-4e36-8797-9e01b90e40dc",
   "metadata": {},
   "outputs": [
    {
     "data": {
      "image/png": "[encoded data removed]",
      "text/plain": [
       "<Figure size 640x480 with 1 Axes>"
      ]
     },
     "metadata": {},
     "output_type": "display_data"
    }
   ],
   "source": [
    "import matplotlib.pyplot as plt\n",
    "\n",
    "plt.plot([1,2,3,4],[10,20,30,40])  # X축, Y축\n",
    "plt.show()"
   ]
  },
  {
   "cell_type": "markdown",
   "id": "19df9281-5c8f-403b-8382-68a5f2d207ab",
   "metadata": {},
   "source": [
    "- linspace를 이용한 곡선"
   ]
  },
  {
   "cell_type": "code",
   "execution_count": 156,
   "id": "59d8731a-7233-4952-a666-696af498f753",
   "metadata": {},
   "outputs": [
    {
     "data": {
      "image/png": "[encoded data removed]",
      "text/plain": [
       "<Figure size 640x480 with 1 Axes>"
      ]
     },
     "metadata": {},
     "output_type": "display_data"
    }
   ],
   "source": [
    "import matplotlib.pyplot as plt\n",
    "\n",
    "x = np.linspace(-5,5,101)\n",
    "plt.plot(x,x**2)\n",
    "plt.show()"
   ]
  },
  {
   "cell_type": "markdown",
   "id": "67bdff8f-1052-40b4-bcbf-cfd7d80851ee",
   "metadata": {},
   "source": [
    "- sin과 cos그래프"
   ]
  },
  {
   "cell_type": "code",
   "execution_count": 165,
   "id": "14719302-d9bd-4a30-9c6e-6ee24341f255",
   "metadata": {},
   "outputs": [
    {
     "data": {
      "image/png": "[encoded data removed]",
      "text/plain": [
       "<Figure size 640x480 with 1 Axes>"
      ]
     },
     "metadata": {},
     "output_type": "display_data"
    }
   ],
   "source": [
    "import matplotlib.pyplot as plt\n",
    "\n",
    "x = np.arange(-5,5,0.01)\n",
    "\n",
    "plt.title('sin cos graph')  # 그래프 제목\n",
    "plt.plot(x,np.sin(x), x,np.cos(x)) # x1,y1 , x2,y2\n",
    "plt.show()"
   ]
  }
 ],
 "metadata": {
  "kernelspec": {
   "display_name": "Python 3 (ipykernel)",
   "language": "python",
   "name": "python3"
  },
  "language_info": {
   "codemirror_mode": {
    "name": "ipython",
    "version": 3
   },
   "file_extension": ".py",
   "mimetype": "text/x-python",
   "name": "python",
   "nbconvert_exporter": "python",
   "pygments_lexer": "ipython3",
   "version": "3.12.4"
  }
 },
 "nbformat": 4,
 "nbformat_minor": 5
}
