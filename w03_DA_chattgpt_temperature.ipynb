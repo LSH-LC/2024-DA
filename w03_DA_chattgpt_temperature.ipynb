{
  "nbformat": 4,
  "nbformat_minor": 0,
  "metadata": {
    "colab": {
      "provenance": [],
      "authorship_tag": "ABX9TyPdnRB+nctlSObti1WexwuI",
      "include_colab_link": true
    },
    "kernelspec": {
      "name": "python3",
      "display_name": "Python 3"
    },
    "language_info": {
      "name": "python"
    }
  },
  "cells": [
    {
      "cell_type": "markdown",
      "metadata": {
        "id": "view-in-github",
        "colab_type": "text"
      },
      "source": [
        "<a href=\"https://colab.research.google.com/github/LSH-LC/2024-DA-Local/blob/main/w03_DA_temperature.ipynb\" target=\"_parent\"><img src=\"https://colab.research.google.com/assets/colab-badge.svg\" alt=\"Open In Colab\"/></a>"
      ]
    },
    {
      "cell_type": "code",
      "source": [
        "import chardet\n",
        "import pandas as pd\n",
        "filename = \"Seoul-temperature.csv\"\n",
        "with open(filename, 'rb') as f:\n",
        "    result = chardet.detect(f.readline())  # or read() if the file is small.\n",
        "    print(result['encoding']) # 인코딩방식 확인"
      ],
      "metadata": {
        "colab": {
          "base_uri": "https://localhost:8080/"
        },
        "id": "osMEvV1FMs2n",
        "outputId": "d06488d8-9eeb-4ca8-f4a8-a81e27785e2e"
      },
      "execution_count": 44,
      "outputs": [
        {
          "output_type": "stream",
          "name": "stdout",
          "text": [
            "EUC-KR\n"
          ]
        }
      ]
    },
    {
      "cell_type": "code",
      "source": [
        "import pandas as pd\n",
        "\n",
        "# CSV 파일 불러오기 (인코딩 및 잘못된 줄 처리)\n",
        "data = pd.read_csv('Seoul-temperature.csv', encoding='EUC-KR', on_bad_lines='skip')\n",
        "\n",
        "# 열 이름 확인\n",
        "print(data.columns)\n"
      ],
      "metadata": {
        "colab": {
          "base_uri": "https://localhost:8080/"
        },
        "id": "PKB_6JntOE2w",
        "outputId": "4b58bfc8-e6de-40ea-c9b5-6de68490f780"
      },
      "execution_count": 46,
      "outputs": [
        {
          "output_type": "stream",
          "name": "stdout",
          "text": [
            "Index(['날짜', '지점', '평균기온(℃)', '최저기온(℃)', '최고기온(℃)'], dtype='object')\n"
          ]
        }
      ]
    },
    {
      "cell_type": "code",
      "source": [
        "import pandas as pd\n",
        "\n",
        "data = pd.read_csv('Seoul-temperature.csv', encoding='EUC-KR')\n",
        "\n",
        "# 가장 높은 기온과 해당 날짜 찾기\n",
        "max_temp_row = data.loc[data['최고기온(℃)'].idxmax()]\n",
        "\n",
        "print(f\"서울의 가장 높은 온도는 {max_temp_row['날짜']}에 기록된 {max_temp_row['최고기온(℃)']}도 입니다.\")\n"
      ],
      "metadata": {
        "colab": {
          "base_uri": "https://localhost:8080/"
        },
        "id": "5TAtOwYGPSxI",
        "outputId": "62052e6e-0d57-4dcf-d7fd-309b6b6d9c7e"
      },
      "execution_count": 47,
      "outputs": [
        {
          "output_type": "stream",
          "name": "stdout",
          "text": [
            "서울의 가장 높은 온도는 \t2024-08-20에 기록된 35.4도 입니다.\n"
          ]
        }
      ]
    }
  ]
}
